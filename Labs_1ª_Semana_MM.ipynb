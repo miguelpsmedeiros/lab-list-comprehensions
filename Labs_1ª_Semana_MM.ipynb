{
  "nbformat": 4,
  "nbformat_minor": 0,
  "metadata": {
    "colab": {
      "name": "Labs 1ª Semana MM",
      "provenance": [],
      "collapsed_sections": [],
      "authorship_tag": "ABX9TyP9d+OFe3DA8XNVQ8rFJfYS",
      "include_colab_link": true
    },
    "kernelspec": {
      "name": "python3",
      "display_name": "Python 3"
    },
    "language_info": {
      "name": "python"
    }
  },
  "cells": [
    {
      "cell_type": "markdown",
      "metadata": {
        "id": "view-in-github",
        "colab_type": "text"
      },
      "source": [
        "<a href=\"https://colab.research.google.com/github/miguelpsmedeiros/lab-list-comprehensions/blob/master/Labs_1%C2%AA_Semana_MM.ipynb\" target=\"_parent\"><img src=\"https://colab.research.google.com/assets/colab-badge.svg\" alt=\"Open In Colab\"/></a>"
      ]
    },
    {
      "cell_type": "code",
      "metadata": {
        "colab": {
          "base_uri": "https://localhost:8080/"
        },
        "id": "sNUjtrzP5Cos",
        "outputId": "c407deda-c026-4796-ad44-9392266ed30d"
      },
      "source": [
        "# LAB comprehension list\n",
        "\n",
        "# 1. Use a list comprehension to create and print a list of consecutive integers starting with 1 and ending with 50.\n",
        "\n",
        "list_1 = [num for num in range(51) if num > 0]\n",
        "\n",
        "list_1"
      ],
      "execution_count": null,
      "outputs": [
        {
          "output_type": "execute_result",
          "data": {
            "text/plain": [
              "[1,\n",
              " 2,\n",
              " 3,\n",
              " 4,\n",
              " 5,\n",
              " 6,\n",
              " 7,\n",
              " 8,\n",
              " 9,\n",
              " 10,\n",
              " 11,\n",
              " 12,\n",
              " 13,\n",
              " 14,\n",
              " 15,\n",
              " 16,\n",
              " 17,\n",
              " 18,\n",
              " 19,\n",
              " 20,\n",
              " 21,\n",
              " 22,\n",
              " 23,\n",
              " 24,\n",
              " 25,\n",
              " 26,\n",
              " 27,\n",
              " 28,\n",
              " 29,\n",
              " 30,\n",
              " 31,\n",
              " 32,\n",
              " 33,\n",
              " 34,\n",
              " 35,\n",
              " 36,\n",
              " 37,\n",
              " 38,\n",
              " 39,\n",
              " 40,\n",
              " 41,\n",
              " 42,\n",
              " 43,\n",
              " 44,\n",
              " 45,\n",
              " 46,\n",
              " 47,\n",
              " 48,\n",
              " 49,\n",
              " 50]"
            ]
          },
          "metadata": {
            "tags": []
          },
          "execution_count": 1
        }
      ]
    },
    {
      "cell_type": "code",
      "metadata": {
        "colab": {
          "base_uri": "https://localhost:8080/"
        },
        "id": "PWApYKZD5NmX",
        "outputId": "24d2d499-1acc-4b54-a0fc-dd7a2c3c12b9"
      },
      "source": [
        "# LAB comprehension list\n",
        "\n",
        "# 2. Use a list comprehension to create and print a list of even numbers starting with 2 and ending with 200\n",
        "\n",
        "list_2 = [num for num in range (201) if num > 1 if num % 2 == 0]\n",
        "\n",
        "list_2"
      ],
      "execution_count": null,
      "outputs": [
        {
          "output_type": "execute_result",
          "data": {
            "text/plain": [
              "[2,\n",
              " 4,\n",
              " 6,\n",
              " 8,\n",
              " 10,\n",
              " 12,\n",
              " 14,\n",
              " 16,\n",
              " 18,\n",
              " 20,\n",
              " 22,\n",
              " 24,\n",
              " 26,\n",
              " 28,\n",
              " 30,\n",
              " 32,\n",
              " 34,\n",
              " 36,\n",
              " 38,\n",
              " 40,\n",
              " 42,\n",
              " 44,\n",
              " 46,\n",
              " 48,\n",
              " 50,\n",
              " 52,\n",
              " 54,\n",
              " 56,\n",
              " 58,\n",
              " 60,\n",
              " 62,\n",
              " 64,\n",
              " 66,\n",
              " 68,\n",
              " 70,\n",
              " 72,\n",
              " 74,\n",
              " 76,\n",
              " 78,\n",
              " 80,\n",
              " 82,\n",
              " 84,\n",
              " 86,\n",
              " 88,\n",
              " 90,\n",
              " 92,\n",
              " 94,\n",
              " 96,\n",
              " 98,\n",
              " 100,\n",
              " 102,\n",
              " 104,\n",
              " 106,\n",
              " 108,\n",
              " 110,\n",
              " 112,\n",
              " 114,\n",
              " 116,\n",
              " 118,\n",
              " 120,\n",
              " 122,\n",
              " 124,\n",
              " 126,\n",
              " 128,\n",
              " 130,\n",
              " 132,\n",
              " 134,\n",
              " 136,\n",
              " 138,\n",
              " 140,\n",
              " 142,\n",
              " 144,\n",
              " 146,\n",
              " 148,\n",
              " 150,\n",
              " 152,\n",
              " 154,\n",
              " 156,\n",
              " 158,\n",
              " 160,\n",
              " 162,\n",
              " 164,\n",
              " 166,\n",
              " 168,\n",
              " 170,\n",
              " 172,\n",
              " 174,\n",
              " 176,\n",
              " 178,\n",
              " 180,\n",
              " 182,\n",
              " 184,\n",
              " 186,\n",
              " 188,\n",
              " 190,\n",
              " 192,\n",
              " 194,\n",
              " 196,\n",
              " 198,\n",
              " 200]"
            ]
          },
          "metadata": {
            "tags": []
          },
          "execution_count": 2
        }
      ]
    },
    {
      "cell_type": "code",
      "metadata": {
        "colab": {
          "base_uri": "https://localhost:8080/"
        },
        "id": "Bd0DGJCS5Rp9",
        "outputId": "b3a2a9b9-21e1-4b9e-d695-2de9915a19a8"
      },
      "source": [
        "# LAB comprehension list \n",
        "\n",
        "# 3. Use a list comprehension to create and print a list containing all elements of the 10 x 4 Numpy array below\n",
        "\n",
        "import numpy as np\n",
        "\n",
        "a = np.array([[0.84062117, 0.48006452, 0.7876326 , 0.77109654],\n",
        "       [0.44409793, 0.09014516, 0.81835917, 0.87645456],\n",
        "       [0.7066597 , 0.09610873, 0.41247947, 0.57433389],\n",
        "       [0.29960807, 0.42315023, 0.34452557, 0.4751035 ],\n",
        "       [0.17003563, 0.46843998, 0.92796258, 0.69814654],\n",
        "       [0.41290051, 0.19561071, 0.16284783, 0.97016248],\n",
        "       [0.71725408, 0.87702738, 0.31244595, 0.76615487],\n",
        "       [0.20754036, 0.57871812, 0.07214068, 0.40356048],\n",
        "       [0.12149553, 0.53222417, 0.9976855 , 0.12536346],\n",
        "       [0.80930099, 0.50962849, 0.94555126, 0.33364763]])\n",
        "\n",
        "list_3 = [element for group in a for element in group]\n",
        "\n",
        "list_3"
      ],
      "execution_count": null,
      "outputs": [
        {
          "output_type": "execute_result",
          "data": {
            "text/plain": [
              "[0.84062117,\n",
              " 0.48006452,\n",
              " 0.7876326,\n",
              " 0.77109654,\n",
              " 0.44409793,\n",
              " 0.09014516,\n",
              " 0.81835917,\n",
              " 0.87645456,\n",
              " 0.7066597,\n",
              " 0.09610873,\n",
              " 0.41247947,\n",
              " 0.57433389,\n",
              " 0.29960807,\n",
              " 0.42315023,\n",
              " 0.34452557,\n",
              " 0.4751035,\n",
              " 0.17003563,\n",
              " 0.46843998,\n",
              " 0.92796258,\n",
              " 0.69814654,\n",
              " 0.41290051,\n",
              " 0.19561071,\n",
              " 0.16284783,\n",
              " 0.97016248,\n",
              " 0.71725408,\n",
              " 0.87702738,\n",
              " 0.31244595,\n",
              " 0.76615487,\n",
              " 0.20754036,\n",
              " 0.57871812,\n",
              " 0.07214068,\n",
              " 0.40356048,\n",
              " 0.12149553,\n",
              " 0.53222417,\n",
              " 0.9976855,\n",
              " 0.12536346,\n",
              " 0.80930099,\n",
              " 0.50962849,\n",
              " 0.94555126,\n",
              " 0.33364763]"
            ]
          },
          "metadata": {
            "tags": []
          },
          "execution_count": 3
        }
      ]
    },
    {
      "cell_type": "code",
      "metadata": {
        "colab": {
          "base_uri": "https://localhost:8080/"
        },
        "id": "PxPcojTv5V98",
        "outputId": "86987d59-c6ed-4ff8-b412-6fb146da743c"
      },
      "source": [
        "# LAB comprehension list \n",
        "\n",
        "# 4. Add a condition to the list comprehension above so that only values greater than or equal to 0.5 are printed\n",
        "\n",
        "list_4 = [element for group in a for element in group if element >= 0.5]\n",
        "\n",
        "list_4"
      ],
      "execution_count": null,
      "outputs": [
        {
          "output_type": "execute_result",
          "data": {
            "text/plain": [
              "[0.84062117,\n",
              " 0.7876326,\n",
              " 0.77109654,\n",
              " 0.81835917,\n",
              " 0.87645456,\n",
              " 0.7066597,\n",
              " 0.57433389,\n",
              " 0.92796258,\n",
              " 0.69814654,\n",
              " 0.97016248,\n",
              " 0.71725408,\n",
              " 0.87702738,\n",
              " 0.76615487,\n",
              " 0.57871812,\n",
              " 0.53222417,\n",
              " 0.9976855,\n",
              " 0.80930099,\n",
              " 0.50962849,\n",
              " 0.94555126]"
            ]
          },
          "metadata": {
            "tags": []
          },
          "execution_count": 4
        }
      ]
    },
    {
      "cell_type": "code",
      "metadata": {
        "colab": {
          "base_uri": "https://localhost:8080/"
        },
        "id": "_47UKaHP5aop",
        "outputId": "7839d7ad-9468-4f9a-cca5-46aeaa3966b2"
      },
      "source": [
        "# LAB comprehension list \n",
        "\n",
        "# 5. Use a list comprehension to create and print a list containing all elements of the 5 x 2 x 3 Numpy array below.\n",
        "\n",
        "b = np.array([[[0.55867166, 0.06210792, 0.08147297],\n",
        "        [0.82579068, 0.91512478, 0.06833034]],\n",
        "\n",
        "       [[0.05440634, 0.65857693, 0.30296619],\n",
        "        [0.06769833, 0.96031863, 0.51293743]],\n",
        "\n",
        "       [[0.09143215, 0.71893382, 0.45850679],\n",
        "        [0.58256464, 0.59005654, 0.56266457]],\n",
        "\n",
        "       [[0.71600294, 0.87392666, 0.11434044],\n",
        "        [0.8694668 , 0.65669313, 0.10708681]],\n",
        "\n",
        "       [[0.07529684, 0.46470767, 0.47984544],\n",
        "        [0.65368638, 0.14901286, 0.23760688]]])\n",
        "\n",
        "\n",
        "list_5 = [element for group in b for sub_group in group for element in sub_group]\n",
        "\n",
        "list_5"
      ],
      "execution_count": null,
      "outputs": [
        {
          "output_type": "execute_result",
          "data": {
            "text/plain": [
              "[0.55867166,\n",
              " 0.06210792,\n",
              " 0.08147297,\n",
              " 0.82579068,\n",
              " 0.91512478,\n",
              " 0.06833034,\n",
              " 0.05440634,\n",
              " 0.65857693,\n",
              " 0.30296619,\n",
              " 0.06769833,\n",
              " 0.96031863,\n",
              " 0.51293743,\n",
              " 0.09143215,\n",
              " 0.71893382,\n",
              " 0.45850679,\n",
              " 0.58256464,\n",
              " 0.59005654,\n",
              " 0.56266457,\n",
              " 0.71600294,\n",
              " 0.87392666,\n",
              " 0.11434044,\n",
              " 0.8694668,\n",
              " 0.65669313,\n",
              " 0.10708681,\n",
              " 0.07529684,\n",
              " 0.46470767,\n",
              " 0.47984544,\n",
              " 0.65368638,\n",
              " 0.14901286,\n",
              " 0.23760688]"
            ]
          },
          "metadata": {
            "tags": []
          },
          "execution_count": 5
        }
      ]
    },
    {
      "cell_type": "code",
      "metadata": {
        "colab": {
          "base_uri": "https://localhost:8080/"
        },
        "id": "yQBOMGT_5hwF",
        "outputId": "b08d2cf0-a56a-4994-e393-31e75557449b"
      },
      "source": [
        "# LAB comprehension list \n",
        "\n",
        "# 6. Add a condition to the list comprehension above so that the last value in each subarray is printed, but only if it is less than or equal to 0.5\n",
        "\n",
        "list_6 = [sub_group[-1] for group in b for sub_group in group if sub_group[-1] <= 0.5]\n",
        "\n",
        "list_6"
      ],
      "execution_count": null,
      "outputs": [
        {
          "output_type": "execute_result",
          "data": {
            "text/plain": [
              "[0.08147297,\n",
              " 0.06833034,\n",
              " 0.30296619,\n",
              " 0.45850679,\n",
              " 0.11434044,\n",
              " 0.10708681,\n",
              " 0.47984544,\n",
              " 0.23760688]"
            ]
          },
          "metadata": {
            "tags": []
          },
          "execution_count": 6
        }
      ]
    },
    {
      "cell_type": "code",
      "metadata": {
        "colab": {
          "base_uri": "https://localhost:8080/"
        },
        "id": "ntXjOaNh5lOK",
        "outputId": "6690f781-0b83-41d4-d512-f75908f96962"
      },
      "source": [
        "# LAB dictionaries\n",
        "\n",
        "# challenge 1\n",
        "\n",
        "#1 and #2\n",
        "\n",
        "tup = (\"I\",)\n",
        "\n",
        "print(type(tup))"
      ],
      "execution_count": null,
      "outputs": [
        {
          "output_type": "stream",
          "text": [
            "<class 'tuple'>\n"
          ],
          "name": "stdout"
        }
      ]
    },
    {
      "cell_type": "code",
      "metadata": {
        "id": "psD3lBTj5w_v"
      },
      "source": [
        "# LAB dictionaries\n",
        "\n",
        "# challenge 1\n",
        "\n",
        "#3 and #4\n",
        "\n",
        "tup.append(\"r\")\n",
        "\n",
        "#tupples are immutable once they are defined, the method append does not work"
      ],
      "execution_count": null,
      "outputs": []
    },
    {
      "cell_type": "code",
      "metadata": {
        "colab": {
          "base_uri": "https://localhost:8080/"
        },
        "id": "aRY2mUf85xuN",
        "outputId": "dad80257-712c-439a-f40c-879e532d4142"
      },
      "source": [
        "# LAB dictionaries\n",
        "\n",
        "# challenge 1\n",
        "\n",
        "#5\n",
        "\n",
        "tup = (\"I\", \"r\", \"o\", \"n\", \"h\", \"a\", \"c\", \"k\")\n",
        "tup1 = (\"I\", \"r\", \"o\", \"n\")\n",
        "tup2 = (\"h\", \"a\", \"c\", \"k\")\n",
        "\n",
        "print(tup1)\n",
        "print(tup2)"
      ],
      "execution_count": null,
      "outputs": [
        {
          "output_type": "stream",
          "text": [
            "('I', 'r', 'o', 'n')\n",
            "('h', 'a', 'c', 'k')\n"
          ],
          "name": "stdout"
        }
      ]
    },
    {
      "cell_type": "code",
      "metadata": {
        "colab": {
          "base_uri": "https://localhost:8080/"
        },
        "id": "twMQdhO752sX",
        "outputId": "8ab56dcd-8b2e-477d-d309-19871caed872"
      },
      "source": [
        "# LAB dictionaries\n",
        "\n",
        "# challenge 1\n",
        "\n",
        "#6\n",
        "\n",
        "tup3 = tup1 + tup2\n",
        "\n",
        "print(tup3)\n",
        "print(tup3==tup)"
      ],
      "execution_count": null,
      "outputs": [
        {
          "output_type": "stream",
          "text": [
            "('I', 'r', 'o', 'n', 'h', 'a', 'c', 'k')\n",
            "True\n"
          ],
          "name": "stdout"
        }
      ]
    },
    {
      "cell_type": "code",
      "metadata": {
        "colab": {
          "base_uri": "https://localhost:8080/"
        },
        "id": "MVNYHBBE58Bo",
        "outputId": "1d3428e1-e6f3-4f4e-e526-375f37e1e8d7"
      },
      "source": [
        "# LAB dictionaries\n",
        "\n",
        "# challenge 1\n",
        "\n",
        "#7\n",
        "\n",
        "a = len(tup)\n",
        "b = len(tup1)\n",
        "c = len(tup2)\n",
        "d = len(tup3)\n",
        "\n",
        "print(b)\n",
        "print(c)\n",
        "print(d)\n",
        "print(b+c==d)"
      ],
      "execution_count": null,
      "outputs": [
        {
          "output_type": "stream",
          "text": [
            "4\n",
            "4\n",
            "8\n",
            "True\n"
          ],
          "name": "stdout"
        }
      ]
    },
    {
      "cell_type": "code",
      "metadata": {
        "colab": {
          "base_uri": "https://localhost:8080/"
        },
        "id": "NMCwXRxR5-Np",
        "outputId": "1259f2e7-34b6-4b1c-fffa-840f86596527"
      },
      "source": [
        "# LAB dictionaries\n",
        "\n",
        "# challenge 1\n",
        "\n",
        "#8\n",
        "\n",
        "tup3.index(\"h\")"
      ],
      "execution_count": null,
      "outputs": [
        {
          "output_type": "execute_result",
          "data": {
            "text/plain": [
              "4"
            ]
          },
          "metadata": {
            "tags": []
          },
          "execution_count": 11
        }
      ]
    },
    {
      "cell_type": "code",
      "metadata": {
        "colab": {
          "base_uri": "https://localhost:8080/"
        },
        "id": "bXFsMUMI6DDz",
        "outputId": "8bac8e9d-cb89-46e5-9dd4-a493e97727ad"
      },
      "source": [
        "# LAB dictionaries\n",
        "\n",
        "# challenge 1\n",
        "\n",
        "#9\n",
        "\n",
        "letters = [\"a\", \"b\", \"c\", \"d\", \"e\"]\n",
        "\n",
        "for chara in letters:\n",
        "  if chara in tup3:\n",
        "    print(\"True\")\n",
        "  else:\n",
        "    print(\"False\")"
      ],
      "execution_count": null,
      "outputs": [
        {
          "output_type": "stream",
          "text": [
            "True\n",
            "False\n",
            "True\n",
            "False\n",
            "False\n"
          ],
          "name": "stdout"
        }
      ]
    },
    {
      "cell_type": "code",
      "metadata": {
        "colab": {
          "base_uri": "https://localhost:8080/"
        },
        "id": "J06QXLr36Edx",
        "outputId": "71a3f9f6-6cf2-4eb3-af74-27761d8f1a69"
      },
      "source": [
        "# LAB dictionaries\n",
        "\n",
        "# challenge 1\n",
        "\n",
        "#10\n",
        "\n",
        "new_list = []\n",
        "\n",
        "for chara in letters:\n",
        "  new_list.append(tup3.count(chara))\n",
        "\n",
        "print(new_list)"
      ],
      "execution_count": null,
      "outputs": [
        {
          "output_type": "stream",
          "text": [
            "[1, 0, 1, 0, 0]\n"
          ],
          "name": "stdout"
        }
      ]
    },
    {
      "cell_type": "code",
      "metadata": {
        "colab": {
          "base_uri": "https://localhost:8080/"
        },
        "id": "qYVAOix-6H95",
        "outputId": "b7e1a3df-30e9-40e4-91b6-6b1bb3d06226"
      },
      "source": [
        "# LAB dictionaries\n",
        "\n",
        "# challenge 2\n",
        "\n",
        "#1\n",
        "\n",
        "import random\n",
        "\n",
        "list_1 = [i for i in random.sample(range(101),80)]\n",
        "\n",
        "print(list_1)"
      ],
      "execution_count": null,
      "outputs": [
        {
          "output_type": "stream",
          "text": [
            "[45, 0, 70, 84, 47, 98, 99, 61, 36, 4, 68, 9, 21, 56, 7, 62, 80, 93, 91, 51, 17, 94, 53, 55, 83, 1, 97, 96, 10, 48, 11, 82, 32, 24, 18, 43, 49, 46, 76, 88, 69, 100, 40, 23, 25, 90, 50, 57, 35, 6, 52, 29, 33, 15, 63, 2, 72, 12, 20, 3, 89, 37, 59, 54, 8, 64, 14, 19, 65, 95, 58, 67, 16, 27, 26, 30, 22, 73, 85, 87]\n"
          ],
          "name": "stdout"
        }
      ]
    },
    {
      "cell_type": "code",
      "metadata": {
        "colab": {
          "base_uri": "https://localhost:8080/"
        },
        "id": "vy0SDjB16Mnx",
        "outputId": "632ded24-b712-4260-c706-0e0a388c3c78"
      },
      "source": [
        "# LAB dictionaries\n",
        "\n",
        "# challenge 2\n",
        "\n",
        "#2\n",
        "\n",
        "set_1 = set(list_1)\n",
        "\n",
        "print(set_1)\n",
        "print(len(list_1))"
      ],
      "execution_count": null,
      "outputs": [
        {
          "output_type": "stream",
          "text": [
            "{0, 1, 2, 3, 4, 6, 7, 8, 9, 10, 11, 12, 14, 15, 16, 17, 18, 19, 20, 21, 22, 23, 24, 25, 26, 27, 29, 30, 32, 33, 35, 36, 37, 40, 43, 45, 46, 47, 48, 49, 50, 51, 52, 53, 54, 55, 56, 57, 58, 59, 61, 62, 63, 64, 65, 67, 68, 69, 70, 72, 73, 76, 80, 82, 83, 84, 85, 87, 88, 89, 90, 91, 93, 94, 95, 96, 97, 98, 99, 100}\n",
            "80\n"
          ],
          "name": "stdout"
        }
      ]
    },
    {
      "cell_type": "code",
      "metadata": {
        "colab": {
          "base_uri": "https://localhost:8080/"
        },
        "id": "cu2Kx7pY6QBX",
        "outputId": "d49a29d8-e7a9-4db4-e5b7-71c25b7789c8"
      },
      "source": [
        "# LAB dictionaries\n",
        "\n",
        "# challenge 2\n",
        "\n",
        "#3\n",
        "\n",
        "list_2 = [i for i in random.sample(range(101),80)]\n",
        "\n",
        "print(list_2)"
      ],
      "execution_count": null,
      "outputs": [
        {
          "output_type": "stream",
          "text": [
            "[51, 26, 58, 53, 57, 24, 16, 21, 1, 76, 39, 70, 37, 96, 62, 84, 46, 13, 49, 6, 32, 54, 67, 75, 73, 89, 100, 87, 47, 25, 17, 45, 91, 12, 40, 11, 56, 61, 41, 72, 77, 29, 59, 74, 82, 93, 99, 44, 36, 30, 86, 88, 66, 3, 81, 79, 60, 63, 43, 97, 68, 85, 19, 15, 10, 71, 7, 28, 90, 48, 95, 22, 34, 69, 0, 18, 14, 20, 55, 92]\n"
          ],
          "name": "stdout"
        }
      ]
    },
    {
      "cell_type": "code",
      "metadata": {
        "colab": {
          "base_uri": "https://localhost:8080/"
        },
        "id": "UFLYIhDK6RUV",
        "outputId": "7ed9c09e-18bb-4d74-db50-6c6dd999a03e"
      },
      "source": [
        "# LAB dictionaries\n",
        "\n",
        "# challenge 2\n",
        "\n",
        "#4\n",
        "\n",
        "set_2 = set(list_2)\n",
        "\n",
        "print(set_2)\n",
        "print(len(list_2))"
      ],
      "execution_count": null,
      "outputs": [
        {
          "output_type": "stream",
          "text": [
            "{0, 1, 3, 6, 7, 10, 11, 12, 13, 14, 15, 16, 17, 18, 19, 20, 21, 22, 24, 25, 26, 28, 29, 30, 32, 34, 36, 37, 39, 40, 41, 43, 44, 45, 46, 47, 48, 49, 51, 53, 54, 55, 56, 57, 58, 59, 60, 61, 62, 63, 66, 67, 68, 69, 70, 71, 72, 73, 74, 75, 76, 77, 79, 81, 82, 84, 85, 86, 87, 88, 89, 90, 91, 92, 93, 95, 96, 97, 99, 100}\n",
            "80\n"
          ],
          "name": "stdout"
        }
      ]
    },
    {
      "cell_type": "code",
      "metadata": {
        "colab": {
          "base_uri": "https://localhost:8080/"
        },
        "id": "8CpmGq986VZy",
        "outputId": "d0a2347a-5846-4eb2-d46b-12d1613186f4"
      },
      "source": [
        "# LAB dictionaries\n",
        "\n",
        "# challenge 2\n",
        "\n",
        "#5\n",
        "\n",
        "set_3 = set_1 - set_2\n",
        "\n",
        "print(set_3)"
      ],
      "execution_count": null,
      "outputs": [
        {
          "output_type": "stream",
          "text": [
            "{64, 33, 2, 35, 4, 65, 98, 8, 9, 80, 50, 83, 52, 23, 27, 94}\n"
          ],
          "name": "stdout"
        }
      ]
    },
    {
      "cell_type": "code",
      "metadata": {
        "colab": {
          "base_uri": "https://localhost:8080/"
        },
        "id": "2lf-NMNO6ZQ_",
        "outputId": "7b94e1b4-f11d-4421-d636-7a77c91dd9fc"
      },
      "source": [
        "# LAB dictionaries\n",
        "\n",
        "# challenge 2\n",
        "\n",
        "#6\n",
        "\n",
        "set_4 = set_2 - set_1\n",
        "\n",
        "print(set_4)"
      ],
      "execution_count": null,
      "outputs": [
        {
          "output_type": "stream",
          "text": [
            "{34, 66, 39, 71, 41, 74, 75, 44, 13, 60, 77, 79, 81, 92, 86, 28}\n"
          ],
          "name": "stdout"
        }
      ]
    },
    {
      "cell_type": "code",
      "metadata": {
        "colab": {
          "base_uri": "https://localhost:8080/"
        },
        "id": "SmkL9Vmp6fbq",
        "outputId": "a602f645-f654-4c92-e187-0260e59700bc"
      },
      "source": [
        "# LAB dictionaries\n",
        "\n",
        "# challenge 2\n",
        "\n",
        "#7\n",
        "\n",
        "set_5 = set_1.intersection(set_2)\n",
        "\n",
        "print(set_5)"
      ],
      "execution_count": null,
      "outputs": [
        {
          "output_type": "stream",
          "text": [
            "{0, 1, 3, 6, 7, 10, 11, 12, 14, 15, 16, 17, 18, 19, 20, 21, 22, 24, 25, 26, 29, 30, 32, 36, 37, 40, 43, 45, 46, 47, 48, 49, 51, 53, 54, 55, 56, 57, 58, 59, 61, 62, 63, 67, 68, 69, 70, 72, 73, 76, 82, 84, 85, 87, 88, 89, 90, 91, 93, 95, 96, 97, 99, 100}\n"
          ],
          "name": "stdout"
        }
      ]
    },
    {
      "cell_type": "code",
      "metadata": {
        "colab": {
          "base_uri": "https://localhost:8080/"
        },
        "id": "vanX6bnO6jrv",
        "outputId": "783f33ca-5b62-4efb-9bf8-f16a25aaa668"
      },
      "source": [
        "# LAB dictionaries\n",
        "\n",
        "# challenge 2\n",
        "\n",
        "#8 and 9\n",
        "\n",
        "set_6 = set ()\n",
        "\n",
        "set_6.update(set_3.union(set_5))\n",
        "\n",
        "print(set_6)"
      ],
      "execution_count": null,
      "outputs": [
        {
          "output_type": "stream",
          "text": [
            "{0, 1, 2, 3, 4, 6, 7, 8, 9, 10, 11, 12, 14, 15, 16, 17, 18, 19, 20, 21, 22, 23, 24, 25, 26, 27, 29, 30, 32, 33, 35, 36, 37, 40, 43, 45, 46, 47, 48, 49, 50, 51, 52, 53, 54, 55, 56, 57, 58, 59, 61, 62, 63, 64, 65, 67, 68, 69, 70, 72, 73, 76, 80, 82, 83, 84, 85, 87, 88, 89, 90, 91, 93, 94, 95, 96, 97, 98, 99, 100}\n"
          ],
          "name": "stdout"
        }
      ]
    },
    {
      "cell_type": "code",
      "metadata": {
        "colab": {
          "base_uri": "https://localhost:8080/"
        },
        "id": "57Z7qe_g6zaL",
        "outputId": "8dc6df95-615e-415f-aee3-c088e536ca0c"
      },
      "source": [
        "# LAB dictionaries\n",
        "\n",
        "# challenge 2\n",
        "\n",
        "#10\n",
        "\n",
        "print(set_1 == set_6)"
      ],
      "execution_count": null,
      "outputs": [
        {
          "output_type": "stream",
          "text": [
            "True\n"
          ],
          "name": "stdout"
        }
      ]
    },
    {
      "cell_type": "code",
      "metadata": {
        "colab": {
          "base_uri": "https://localhost:8080/"
        },
        "id": "WHZMu6z47Kww",
        "outputId": "81781529-95a1-461e-f9e3-a299abd2712b"
      },
      "source": [
        "# LAB dictionaries\n",
        "\n",
        "# challenge 2\n",
        "\n",
        "#11\n",
        "\n",
        "set_sub = set_2.issubset(set_1)\n",
        "set_sub1 = set_3.issubset(set_1)\n",
        "\n",
        "print(set_sub)\n",
        "print(set_sub1)"
      ],
      "execution_count": null,
      "outputs": [
        {
          "output_type": "stream",
          "text": [
            "False\n",
            "True\n"
          ],
          "name": "stdout"
        }
      ]
    },
    {
      "cell_type": "code",
      "metadata": {
        "colab": {
          "base_uri": "https://localhost:8080/"
        },
        "id": "3Y5X_azg7Mdd",
        "outputId": "dc9990cb-d726-45de-85c1-8a6004ad0086"
      },
      "source": [
        "# LAB dictionaries\n",
        "\n",
        "# challenge 2\n",
        "\n",
        "#12\n",
        "\n",
        "comb345 = set_3.union(set_4, set_5)\n",
        "\n",
        "comb12 = set_1.union(set_2)\n",
        "\n",
        "print(comb345)\n",
        "print(comb12)\n",
        "print(comb345 == comb12)"
      ],
      "execution_count": null,
      "outputs": [
        {
          "output_type": "stream",
          "text": [
            "{0, 1, 2, 3, 4, 6, 7, 8, 9, 10, 11, 12, 13, 14, 15, 16, 17, 18, 19, 20, 21, 22, 23, 24, 25, 26, 27, 28, 29, 30, 32, 33, 34, 35, 36, 37, 39, 40, 41, 43, 44, 45, 46, 47, 48, 49, 50, 51, 52, 53, 54, 55, 56, 57, 58, 59, 60, 61, 62, 63, 64, 65, 66, 67, 68, 69, 70, 71, 72, 73, 74, 75, 76, 77, 79, 80, 81, 82, 83, 84, 85, 86, 87, 88, 89, 90, 91, 92, 93, 94, 95, 96, 97, 98, 99, 100}\n",
            "{0, 1, 2, 3, 4, 6, 7, 8, 9, 10, 11, 12, 13, 14, 15, 16, 17, 18, 19, 20, 21, 22, 23, 24, 25, 26, 27, 28, 29, 30, 32, 33, 34, 35, 36, 37, 39, 40, 41, 43, 44, 45, 46, 47, 48, 49, 50, 51, 52, 53, 54, 55, 56, 57, 58, 59, 60, 61, 62, 63, 64, 65, 66, 67, 68, 69, 70, 71, 72, 73, 74, 75, 76, 77, 79, 80, 81, 82, 83, 84, 85, 86, 87, 88, 89, 90, 91, 92, 93, 94, 95, 96, 97, 98, 99, 100}\n",
            "True\n"
          ],
          "name": "stdout"
        }
      ]
    },
    {
      "cell_type": "code",
      "metadata": {
        "colab": {
          "base_uri": "https://localhost:8080/"
        },
        "id": "i6qWiVMU7PsU",
        "outputId": "2a08bb7d-6ab1-4840-95a6-04b6e2adf212"
      },
      "source": [
        "# LAB dictionaries\n",
        "\n",
        "# challenge 2\n",
        "\n",
        "#13\n",
        "\n",
        "set_1.pop()\n",
        "\n",
        "print(set_1)"
      ],
      "execution_count": null,
      "outputs": [
        {
          "output_type": "stream",
          "text": [
            "{1, 2, 3, 4, 6, 7, 8, 9, 10, 11, 12, 14, 15, 16, 17, 18, 19, 20, 21, 22, 23, 24, 25, 26, 27, 29, 30, 32, 33, 35, 36, 37, 40, 43, 45, 46, 47, 48, 49, 50, 51, 52, 53, 54, 55, 56, 57, 58, 59, 61, 62, 63, 64, 65, 67, 68, 69, 70, 72, 73, 76, 80, 82, 83, 84, 85, 87, 88, 89, 90, 91, 93, 94, 95, 96, 97, 98, 99, 100}\n"
          ],
          "name": "stdout"
        }
      ]
    },
    {
      "cell_type": "code",
      "metadata": {
        "colab": {
          "base_uri": "https://localhost:8080/"
        },
        "id": "VDYJFaJH7TV5",
        "outputId": "9cc8842a-b5dc-45ae-a6dc-535ff27890ae"
      },
      "source": [
        "# LAB dictionaries\n",
        "\n",
        "# challenge 2\n",
        "\n",
        "#14\n",
        "\n",
        "list_to_remove = [1, 9, 11, 19, 21, 29, 31, 39, 41, 49, 51, 59, 61, 69, 71, 79, 81, 89, 91, 99]\n",
        "\n",
        "set_remove = set(list_to_remove)\n",
        "\n",
        "new_set_1 = set_1 - set_remove\n",
        "\n",
        "print(new_set_1)"
      ],
      "execution_count": null,
      "outputs": [
        {
          "output_type": "stream",
          "text": [
            "{2, 3, 4, 6, 7, 8, 10, 12, 14, 15, 16, 17, 18, 20, 22, 23, 24, 25, 26, 27, 30, 32, 33, 35, 36, 37, 40, 43, 45, 46, 47, 48, 50, 52, 53, 54, 55, 56, 57, 58, 62, 63, 64, 65, 67, 68, 70, 72, 73, 76, 80, 82, 83, 84, 85, 87, 88, 90, 93, 94, 95, 96, 97, 98, 100}\n"
          ],
          "name": "stdout"
        }
      ]
    },
    {
      "cell_type": "code",
      "metadata": {
        "colab": {
          "base_uri": "https://localhost:8080/"
        },
        "id": "xIHuCSls7X8V",
        "outputId": "7c95f927-ba2b-4e66-96bc-d7724761c6cc"
      },
      "source": [
        "# LAB dictionaries\n",
        "\n",
        "# challenge 2\n",
        "\n",
        "#15\n",
        "\n",
        "father_list = ['garlic', 'watermelon', 'toilet paper', 'yogurt', 'onions', 'gums', 'flour', 'cucumber', 'watermelon', 'yogurt', 'garlic']\n",
        "\n",
        "mother_list = []\n",
        "\n",
        "Jo_list = ['blueberries', 'sugar', 'watermelon', 'gums', 'tomatoes', 'yogurt', 'juice', 'milk', 'onions', 'garlic', 'cucumber', 'sugar', 'blueberries', 'gums', 'yogurt']\n",
        "\n",
        "Carlos_list = ['tomatoes', 'water', 'onions', 'blueberries', 'garlic', 'flour', 'cherries', 'tomatoes', 'onions', 'water', 'tomatoes', 'toilet paper']\n",
        "\n",
        "Mattia_list = []\n",
        "\n",
        "set_father = set(father_list)\n",
        "\n",
        "for groc in father_list:\n",
        "  if father_list.count(groc) > 1:\n",
        "    father_list.remove(groc)\n",
        "  else:\n",
        "    continue\n",
        "\n",
        "print(set_father)"
      ],
      "execution_count": null,
      "outputs": [
        {
          "output_type": "stream",
          "text": [
            "{'garlic', 'flour', 'watermelon', 'cucumber', 'gums', 'onions', 'toilet paper', 'yogurt'}\n"
          ],
          "name": "stdout"
        }
      ]
    },
    {
      "cell_type": "code",
      "metadata": {
        "colab": {
          "base_uri": "https://localhost:8080/"
        },
        "id": "e2ak-bWt7rab",
        "outputId": "2890dec5-3105-41ac-e933-af1d0120714f"
      },
      "source": [
        "# LAB dictionaries\n",
        "\n",
        "# challenge 2\n",
        "\n",
        "#15\n",
        "\n",
        "set_mother = set(mother_list)\n",
        "\n",
        "for groc in mother_list:\n",
        "  if mother_list.count(groc) > 1:\n",
        "    mother_list.remove(groc)\n",
        "  else:\n",
        "    continue\n",
        "\n",
        "print(set_mother)"
      ],
      "execution_count": null,
      "outputs": [
        {
          "output_type": "stream",
          "text": [
            "set()\n"
          ],
          "name": "stdout"
        }
      ]
    },
    {
      "cell_type": "code",
      "metadata": {
        "colab": {
          "base_uri": "https://localhost:8080/"
        },
        "id": "EyYMINvF7yDM",
        "outputId": "c6867d27-1131-4c71-b2bb-e36e8e387e96"
      },
      "source": [
        "# LAB dictionaries\n",
        "\n",
        "# challenge 2\n",
        "\n",
        "#15\n",
        "\n",
        "set_Jo = set(Jo_list)\n",
        "\n",
        "for groc in Jo_list:\n",
        "  if Jo_list.count(groc) > 1:\n",
        "    Jo_list.remove(groc)\n",
        "  else:\n",
        "    continue\n",
        "\n",
        "print(set_Jo)"
      ],
      "execution_count": null,
      "outputs": [
        {
          "output_type": "stream",
          "text": [
            "{'sugar', 'juice', 'garlic', 'watermelon', 'cucumber', 'gums', 'milk', 'tomatoes', 'blueberries', 'onions', 'yogurt'}\n"
          ],
          "name": "stdout"
        }
      ]
    },
    {
      "cell_type": "code",
      "metadata": {
        "colab": {
          "base_uri": "https://localhost:8080/"
        },
        "id": "Y4nSPjFj8Bdv",
        "outputId": "23237600-eecc-4cee-e1ed-c8b8675f108a"
      },
      "source": [
        "# LAB dictionaries\n",
        "\n",
        "# challenge 2\n",
        "\n",
        "#15\n",
        "\n",
        "set_Carlos = set(Carlos_list)\n",
        "\n",
        "for groc in Carlos_list:\n",
        "  if Carlos_list.count(groc) > 1:\n",
        "    Carlos_list.remove(groc)\n",
        "  else:\n",
        "    continue\n",
        "\n",
        "print(set_Carlos)"
      ],
      "execution_count": null,
      "outputs": [
        {
          "output_type": "stream",
          "text": [
            "{'garlic', 'flour', 'water', 'onions', 'tomatoes', 'blueberries', 'cherries', 'toilet paper'}\n"
          ],
          "name": "stdout"
        }
      ]
    },
    {
      "cell_type": "code",
      "metadata": {
        "colab": {
          "base_uri": "https://localhost:8080/"
        },
        "id": "_uT-cXDA8Ez6",
        "outputId": "28cbb4e9-f558-4cd8-dc23-cc5acc08401f"
      },
      "source": [
        "# LAB dictionaries\n",
        "\n",
        "# challenge 2\n",
        "\n",
        "#15\n",
        "\n",
        "set_Mattia = set(Mattia_list)\n",
        "\n",
        "for groc in Mattia_list:\n",
        "  if Mattia_list.count(groc) > 1:\n",
        "    Mattia_list.remove(groc)\n",
        "  else:\n",
        "    continue\n",
        "\n",
        "print(set_Mattia)"
      ],
      "execution_count": null,
      "outputs": [
        {
          "output_type": "stream",
          "text": [
            "set()\n"
          ],
          "name": "stdout"
        }
      ]
    },
    {
      "cell_type": "code",
      "metadata": {
        "colab": {
          "base_uri": "https://localhost:8080/"
        },
        "id": "ZqnAbG-D9FO0",
        "outputId": "646f7cf0-3761-4d64-99a7-a7f31d56e6b2"
      },
      "source": [
        "# LAB dictionaries\n",
        "\n",
        "# challenge 2\n",
        "\n",
        "#15.2\n",
        "\n",
        "set_Mattia = set_Carlos.symmetric_difference(set_Jo)\n",
        "\n",
        "print(set_Mattia)"
      ],
      "execution_count": null,
      "outputs": [
        {
          "output_type": "stream",
          "text": [
            "{'sugar', 'juice', 'flour', 'water', 'watermelon', 'cucumber', 'gums', 'milk', 'cherries', 'toilet paper', 'yogurt'}\n"
          ],
          "name": "stdout"
        }
      ]
    },
    {
      "cell_type": "code",
      "metadata": {
        "colab": {
          "base_uri": "https://localhost:8080/"
        },
        "id": "ZM93sFzH9GtU",
        "outputId": "60a43d68-8bad-4628-9541-bb228d48f833"
      },
      "source": [
        "# LAB dictionaries\n",
        "\n",
        "# challenge 2\n",
        "\n",
        "#15.3\n",
        "\n",
        "import random\n",
        "items = ['milk', 'water', 'chocolate', 'blueberries', 'shampoo', 'flour', 'bread', 'sugar', 'watermelon', 'vinegar', 'tomatoes', 'yogurt', 'juice', 'gums', 'onions', 'garlic', 'cucumber', 'mushrooms', 'toilet paper', 'oranges', 'deodorant', 'cherries']\n",
        "\n",
        "mother_list = random.sample(items,k = 10)\n",
        "\n",
        "print(mother_list)"
      ],
      "execution_count": null,
      "outputs": [
        {
          "output_type": "stream",
          "text": [
            "['chocolate', 'tomatoes', 'garlic', 'bread', 'cherries', 'onions', 'deodorant', 'oranges', 'vinegar', 'watermelon']\n"
          ],
          "name": "stdout"
        }
      ]
    },
    {
      "cell_type": "code",
      "metadata": {
        "colab": {
          "base_uri": "https://localhost:8080/"
        },
        "id": "6jHj9r5A9Kqq",
        "outputId": "0f15606f-6ea8-4626-cf55-536b417c3b47"
      },
      "source": [
        "# LAB dictionaries\n",
        "\n",
        "# challenge 2\n",
        "\n",
        "#15.4\n",
        "\n",
        "all_groc = set_father.union(set_mother, set_Jo, set_Carlos, set_Mattia)\n",
        "\n",
        "all_groc.discard(\"toilet paper\")\n",
        "\n",
        "print(all_groc)"
      ],
      "execution_count": null,
      "outputs": [
        {
          "output_type": "stream",
          "text": [
            "{'flour', 'juice', 'cucumber', 'tomatoes', 'cherries', 'sugar', 'garlic', 'water', 'watermelon', 'gums', 'milk', 'onions', 'blueberries', 'yogurt'}\n"
          ],
          "name": "stdout"
        }
      ]
    },
    {
      "cell_type": "code",
      "metadata": {
        "colab": {
          "base_uri": "https://localhost:8080/"
        },
        "id": "1rML-rLE9Nri",
        "outputId": "003a8a54-7c10-4719-959b-6813ca445796"
      },
      "source": [
        "# LAB dictionaries\n",
        "\n",
        "# challenge 2\n",
        "\n",
        "#15.5\n",
        "\n",
        "all_groc = set_father.union(set_mother, set_Jo, set_Carlos, set_Mattia)\n",
        "\n",
        "print(all_groc)"
      ],
      "execution_count": null,
      "outputs": [
        {
          "output_type": "stream",
          "text": [
            "{'flour', 'juice', 'cucumber', 'tomatoes', 'cherries', 'toilet paper', 'sugar', 'garlic', 'water', 'watermelon', 'gums', 'milk', 'onions', 'blueberries', 'yogurt'}\n"
          ],
          "name": "stdout"
        }
      ]
    },
    {
      "cell_type": "code",
      "metadata": {
        "colab": {
          "base_uri": "https://localhost:8080/"
        },
        "id": "tS64jb2m9Qcr",
        "outputId": "5adfec39-0397-44be-8dab-c3b65ca8e5ee"
      },
      "source": [
        "# LAB dictionaries\n",
        "\n",
        "# challenge 2\n",
        "\n",
        "#15.6\n",
        "\n",
        "all_groc.pop()\n",
        "\n",
        "print(all_groc)"
      ],
      "execution_count": null,
      "outputs": [
        {
          "output_type": "stream",
          "text": [
            "{'gums', 'milk', 'onions', 'blueberries', 'yogurt'}\n"
          ],
          "name": "stdout"
        }
      ]
    }
  ]
}